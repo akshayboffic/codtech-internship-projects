{
 "cells": [
  {
   "cell_type": "markdown",
   "metadata": {},
   "source": [
    "## **📌 Problem Overview:**\n",
    "A company produces two products (A and B) at two factories (Factory 1 & Factory 2). The goal is to **minimize production costs** while ensuring demand is met and capacity constraints are not exceeded.\n",
    "\n",
    "**Decision Variables:**\n",
    "\n",
    "We need to determine:\n",
    "\n",
    "-> How many units of Product A to produce at Factory 1 (x_A1) and Factory 2 (x_A2).\n",
    "\n",
    "-> How many units of Product B to produce at Factory 1 (x_B1) and Factory 2 (x_B2)."
   ]
  },
  {
   "cell_type": "markdown",
   "metadata": {},
   "source": [
    "### Importing Libraries"
   ]
  },
  {
   "cell_type": "code",
   "execution_count": 1,
   "metadata": {},
   "outputs": [],
   "source": [
    "import pulp\n",
    "import pandas as pd\n",
    "import numpy as np\n",
    "import matplotlib.pyplot as plt"
   ]
  },
  {
   "cell_type": "markdown",
   "metadata": {},
   "source": [
    "### Define the Problem"
   ]
  },
  {
   "cell_type": "code",
   "execution_count": 2,
   "metadata": {},
   "outputs": [],
   "source": [
    "problem = pulp.LpProblem(\"Supply_Chain_Optimization\", pulp.LpMinimize)"
   ]
  },
  {
   "cell_type": "markdown",
   "metadata": {},
   "source": [
    "This creates an optimization problem called **\"Supply_Chain_Optimization\"**.\n",
    "We specify minimization (pulp.LpMinimize) because we want to minimize production costs."
   ]
  },
  {
   "cell_type": "markdown",
   "metadata": {},
   "source": [
    "###  Define Decision Variables"
   ]
  },
  {
   "cell_type": "code",
   "execution_count": 3,
   "metadata": {},
   "outputs": [],
   "source": [
    "x_A1 = pulp.LpVariable(\"Product A Factory1\", lowBound=0, cat='Integer')\n",
    "x_A2 = pulp.LpVariable(\"Product A Factory2\", lowBound=0, cat='Integer')\n",
    "x_B1 = pulp.LpVariable(\"Product B Factory1\", lowBound=0, cat='Integer')\n",
    "x_B2 = pulp.LpVariable(\"Product B Factory2\", lowBound=0, cat='Integer')"
   ]
  },
  {
   "cell_type": "markdown",
   "metadata": {},
   "source": [
    "Decision variables represent the number of units produced at each factory.\n",
    "lowBound=0 ensures that we cannot produce negative quantities.\n",
    "cat='Continuous' means we allow fractional values (though normally, production might be in whole numbers)."
   ]
  },
  {
   "cell_type": "markdown",
   "metadata": {},
   "source": [
    "### Define Costs"
   ]
  },
  {
   "cell_type": "code",
   "execution_count": 4,
   "metadata": {},
   "outputs": [],
   "source": [
    "cost_A1 = 20   \n",
    "cost_A2 = 25   \n",
    "cost_B1 = 30   \n",
    "cost_B2 = 28   "
   ]
  },
  {
   "cell_type": "markdown",
   "metadata": {},
   "source": [
    "### Define Objective Function (Minimize Cost)"
   ]
  },
  {
   "cell_type": "code",
   "execution_count": 5,
   "metadata": {},
   "outputs": [],
   "source": [
    "problem += (cost_A1 * x_A1 + cost_A2 * x_A2 + cost_B1 * x_B1 + cost_B2 * x_B2), \"Total_Cost\""
   ]
  },
  {
   "cell_type": "markdown",
   "metadata": {},
   "source": [
    "This executes the linear programming model and finds the optimal values for x_A1, x_A2, x_B1, and x_B2"
   ]
  },
  {
   "cell_type": "markdown",
   "metadata": {},
   "source": [
    "### Define Constraints"
   ]
  },
  {
   "cell_type": "code",
   "execution_count": 6,
   "metadata": {},
   "outputs": [],
   "source": [
    "problem += x_A1 + x_A2 >= 200, \"Demand Constraint Product A\"\n",
    "problem += x_B1 + x_B2 >= 150, \"Demand Constraint Product B\"\n",
    "\n",
    "problem += x_A1 + x_B1 <= 250, \"Factory1 Capacity\"\n",
    "problem += x_A2 + x_B2 <= 300, \"Factory2 Capacity\"\n",
    "\n",
    "problem += x_A1 <= 180, \"Max Production Product A Factory1\"\n",
    "problem += x_B2 <= 200, \"Max Production Product B Factory2\"\n",
    "\n",
    "problem += x_A1 + x_B1 >= 100, \"Minimum Production Factory1\"\n",
    "problem += x_A2 + x_B2 >= 120, \"Minimum Production Factory2\"\n",
    "\n",
    "problem += 2 * x_A1 + 3 * x_B1 <= 400, \"Raw Material Limit Factory1\"\n",
    "problem += 3 * x_A2 + 2 * x_B2 <= 500, \"Raw Material Limit Factory2\"\n",
    "\n",
    "problem += x_A1 + x_A2 <= 250, \"Total Production Limit Product A\"\n",
    "problem += x_B1 + x_B2 <= 200, \"Total Production Limit Product B\""
   ]
  },
  {
   "cell_type": "code",
   "execution_count": 7,
   "metadata": {},
   "outputs": [
    {
     "data": {
      "text/plain": [
       "1"
      ]
     },
     "execution_count": 7,
     "metadata": {},
     "output_type": "execute_result"
    }
   ],
   "source": [
    "problem.solve()"
   ]
  },
  {
   "cell_type": "code",
   "execution_count": 8,
   "metadata": {},
   "outputs": [
    {
     "name": "stdout",
     "output_type": "stream",
     "text": [
      "Optimal Production at Factory 1 (Product A): 180.0\n",
      "Optimal Production at Factory 2 (Product A): 20.0\n",
      "Optimal Production at Factory 1 (Product B): 0.0\n",
      "Optimal Production at Factory 2 (Product B): 150.0\n",
      "Minimum Total Cost: 8300.0\n"
     ]
    }
   ],
   "source": [
    "print(f\"Optimal Production at Factory 1 (Product A): {x_A1.varValue}\")\n",
    "print(f\"Optimal Production at Factory 2 (Product A): {x_A2.varValue}\")\n",
    "print(f\"Optimal Production at Factory 1 (Product B): {x_B1.varValue}\")\n",
    "print(f\"Optimal Production at Factory 2 (Product B): {x_B2.varValue}\")\n",
    "print(f\"Minimum Total Cost: {pulp.value(problem.objective)}\")"
   ]
  },
  {
   "cell_type": "markdown",
   "metadata": {},
   "source": [
    "### Visualization"
   ]
  },
  {
   "cell_type": "code",
   "execution_count": 9,
   "metadata": {},
   "outputs": [
    {
     "data": {
      "image/png": "[encoded data removed]",
      "text/plain": [
       "<Figure size 640x480 with 1 Axes>"
      ]
     },
     "metadata": {},
     "output_type": "display_data"
    }
   ],
   "source": [
    "factories = [\"Factory 1\", \"Factory 2\"]\n",
    "prod_A = [x_A1.varValue, x_A2.varValue]\n",
    "prod_B = [x_B1.varValue, x_B2.varValue]\n",
    "\n",
    "fig, ax = plt.subplots()\n",
    "bar_width = 0.35\n",
    "index = np.arange(len(factories))\n",
    "bar1 = plt.bar(index, prod_A, bar_width, label=\"Product A\", color='b')\n",
    "bar2 = plt.bar(index + bar_width, prod_B, bar_width, label=\"Product B\", color='g')\n",
    "\n",
    "plt.xlabel(\"Factories\")\n",
    "plt.ylabel(\"Production Quantity\")\n",
    "plt.title(\"Optimized Production Plan\")\n",
    "plt.xticks(index + bar_width / 2, factories)\n",
    "plt.legend()\n",
    "plt.grid()\n",
    "plt.show()"
   ]
  }
 ],
 "metadata": {
  "kernelspec": {
   "display_name": "Python 3",
   "language": "python",
   "name": "python3"
  },
  "language_info": {
   "codemirror_mode": {
    "name": "ipython",
    "version": 3
   },
   "file_extension": ".py",
   "mimetype": "text/x-python",
   "name": "python",
   "nbconvert_exporter": "python",
   "pygments_lexer": "ipython3",
   "version": "3.11.0"
  }
 },
 "nbformat": 4,
 "nbformat_minor": 2
}
